{
  "nbformat": 4,
  "nbformat_minor": 0,
  "metadata": {
    "colab": {
      "provenance": [],
      "gpuType": "T4"
    },
    "kernelspec": {
      "name": "python3",
      "display_name": "Python 3"
    },
    "language_info": {
      "name": "python"
    },
    "accelerator": "GPU"
  },
  "cells": [
    {
      "cell_type": "code",
      "execution_count": 26,
      "metadata": {
        "colab": {
          "base_uri": "https://localhost:8080/"
        },
        "id": "Kmyuwg4tHZ2T",
        "outputId": "caea4748-0239-4bd6-ed65-b9e074bd6454"
      },
      "outputs": [
        {
          "output_type": "stream",
          "name": "stdout",
          "text": [
            "\r0% [Working]\r            \rGet:1 http://security.ubuntu.com/ubuntu focal-security InRelease [114 kB]\n",
            "\r0% [Connecting to archive.ubuntu.com (185.125.190.39)] [1 InRelease 14.2 kB/114\r                                                                               \rHit:2 https://cloud.r-project.org/bin/linux/ubuntu focal-cran40/ InRelease\n",
            "\r0% [Waiting for headers] [1 InRelease 43.1 kB/114 kB 38%] [Waiting for headers]\r                                                                               \rHit:3 http://archive.ubuntu.com/ubuntu focal InRelease\n",
            "\r                                                                               \rHit:4 http://ppa.launchpad.net/c2d4u.team/c2d4u4.0+/ubuntu focal InRelease\n",
            "\r0% [Waiting for headers] [1 InRelease 43.1 kB/114 kB 38%] [Connecting to ppa.la\r                                                                               \rGet:5 http://archive.ubuntu.com/ubuntu focal-updates InRelease [114 kB]\n",
            "\r0% [5 InRelease 12.7 kB/114 kB 11%] [1 InRelease 56.2 kB/114 kB 49%] [Connected\r                                                                               \rHit:6 http://ppa.launchpad.net/cran/libgit2/ubuntu focal InRelease\n",
            "\r0% [5 InRelease 21.4 kB/114 kB 19%] [1 InRelease 107 kB/114 kB 94%] [Connecting\r0% [5 InRelease 27.2 kB/114 kB 24%] [Connecting to ppa.launchpad.net (185.125.1\r                                                                               \rHit:7 http://ppa.launchpad.net/deadsnakes/ppa/ubuntu focal InRelease\n",
            "\r0% [5 InRelease 105 kB/114 kB 93%] [Connecting to ppa.launchpad.net (185.125.19\r                                                                               \r0% [Connecting to ppa.launchpad.net (185.125.190.52)] [Waiting for headers]\r                                                                           \rHit:8 https://developer.download.nvidia.com/compute/cuda/repos/ubuntu2004/x86_64  InRelease\n",
            "\r0% [Waiting for headers] [Connecting to ppa.launchpad.net (185.125.190.52)]\r                                                                           \rGet:9 http://archive.ubuntu.com/ubuntu focal-backports InRelease [108 kB]\n",
            "\r                                                                           \r0% [9 InRelease 15.6 kB/108 kB 14%] [Waiting for headers]\r                                                         \r0% [Waiting for headers]\r                        \rHit:10 http://ppa.launchpad.net/graphics-drivers/ppa/ubuntu focal InRelease\n",
            "Hit:11 http://ppa.launchpad.net/ubuntugis/ppa/ubuntu focal InRelease\n",
            "Get:12 http://archive.ubuntu.com/ubuntu focal-updates/main amd64 Packages [3,253 kB]\n",
            "Get:13 http://archive.ubuntu.com/ubuntu focal-updates/universe amd64 Packages [1,353 kB]\n",
            "Fetched 4,942 kB in 1s (4,277 kB/s)\n",
            "Reading package lists... Done\n"
          ]
        }
      ],
      "source": [
        "!apt-get update"
      ]
    },
    {
      "cell_type": "code",
      "source": [
        "!apt-get install ncbi-blast+"
      ],
      "metadata": {
        "colab": {
          "base_uri": "https://localhost:8080/"
        },
        "id": "Ar_RpB_qHeNq",
        "outputId": "035e04db-48c5-4980-8fac-71c890cd1fd7"
      },
      "execution_count": 27,
      "outputs": [
        {
          "output_type": "stream",
          "name": "stdout",
          "text": [
            "Reading package lists... Done\n",
            "Building dependency tree       \n",
            "Reading state information... Done\n",
            "ncbi-blast+ is already the newest version (2.9.0-2).\n",
            "0 upgraded, 0 newly installed, 0 to remove and 48 not upgraded.\n"
          ]
        }
      ]
    },
    {
      "cell_type": "code",
      "source": [
        "!unzip histones.zip"
      ],
      "metadata": {
        "colab": {
          "base_uri": "https://localhost:8080/"
        },
        "id": "cvmmI8ZH_hQF",
        "outputId": "e01db520-3dea-405e-d078-7ca5c57434d1"
      },
      "execution_count": 28,
      "outputs": [
        {
          "output_type": "stream",
          "name": "stdout",
          "text": [
            "Archive:  histones.zip\n",
            "replace histones/H3.fasta? [y]es, [n]o, [A]ll, [N]one, [r]ename: y\n",
            "  inflating: histones/H3.fasta       \n",
            "replace histones/H2A.fasta? [y]es, [n]o, [A]ll, [N]one, [r]ename: y\n",
            "  inflating: histones/H2A.fasta      \n",
            "replace histones/H4.fasta? [y]es, [n]o, [A]ll, [N]one, [r]ename: y\n",
            "  inflating: histones/H4.fasta       \n",
            "replace histones/H2B.fasta? [y]es, [n]o, [A]ll, [N]one, [r]ename: y\n",
            "  inflating: histones/H2B.fasta      \n"
          ]
        }
      ]
    },
    {
      "cell_type": "code",
      "source": [
        "!jar xvf proteomes.zip"
      ],
      "metadata": {
        "colab": {
          "base_uri": "https://localhost:8080/"
        },
        "id": "dcTBt8cmBK8Q",
        "outputId": "dca26601-9993-498d-9b69-93cec62b87ef"
      },
      "execution_count": 30,
      "outputs": [
        {
          "output_type": "stream",
          "name": "stdout",
          "text": [
            "  created: proteomes/\n",
            " inflated: proteomes/human.faa\n",
            " inflated: __MACOSX/proteomes/._human.faa\n",
            " inflated: proteomes/mouse.faa\n",
            " inflated: __MACOSX/proteomes/._mouse.faa\n",
            " inflated: proteomes/e.coli.faa\n",
            " inflated: __MACOSX/proteomes/._e.coli.faa\n",
            " inflated: proteomes/methanocaldococcus.faa\n",
            " inflated: __MACOSX/proteomes/._methanocaldococcus.faa\n",
            " inflated: proteomes/c.elegans.faa\n",
            " inflated: __MACOSX/proteomes/._c.elegans.faa\n",
            " inflated: proteomes/zebrafish.faa\n",
            " inflated: __MACOSX/proteomes/._zebrafish.faa\n",
            " inflated: proteomes/thermococcus.faa\n",
            " inflated: __MACOSX/proteomes/._thermococcus.faa\n",
            " inflated: proteomes/tuberculosis.faa\n",
            " inflated: __MACOSX/proteomes/._tuberculosis.faa\n",
            " inflated: proteomes/ciliate.faa\n",
            " inflated: __MACOSX/proteomes/._ciliate.faa\n",
            " inflated: proteomes/yeast.faa\n",
            " inflated: __MACOSX/proteomes/._yeast.faa\n",
            " inflated: proteomes/drosophila.faa\n",
            " inflated: __MACOSX/proteomes/._drosophila.faa\n"
          ]
        }
      ]
    },
    {
      "cell_type": "code",
      "source": [
        "#zebrafish.fasta -- белковые последовательности модельного организма\n",
        "!makeblastdb  -dbtype prot  -in proteomes/human.faa  -out human.proteins\n",
        "!makeblastdb  -dbtype prot  -in proteomes/zebrafish.faa  -out zebrafish.proteins\n",
        "!makeblastdb  -dbtype prot  -in proteomes/mouse.faa  -out mouse.proteins\n",
        "!makeblastdb  -dbtype prot  -in proteomes/drosophila.faa  -out drosophila.proteins\n",
        "!makeblastdb  -dbtype prot  -in proteomes/c.elegans.faa  -out c.elegans.proteins\n",
        "!makeblastdb  -dbtype prot  -in proteomes/ciliate.faa  -out ciliate.proteins\n",
        "!makeblastdb  -dbtype prot  -in proteomes/yeast.faa  -out yeast.proteins\n",
        "!makeblastdb  -dbtype prot  -in proteomes/methanocaldococcus.faa  -out methanocaldococcus.proteins\n",
        "!makeblastdb  -dbtype prot  -in proteomes/thermococcus.faa  -out thermococcus.proteins\n",
        "!makeblastdb  -dbtype prot  -in proteomes/e.coli.faa  -out e.coli.proteins\n",
        "!makeblastdb  -dbtype prot  -in proteomes/tuberculosis.faa  -out tuberculosis.proteins"
      ],
      "metadata": {
        "colab": {
          "base_uri": "https://localhost:8080/"
        },
        "id": "LmRUPXqLI7oC",
        "outputId": "81e58892-bba8-422d-e1ae-092aba6e0d5b"
      },
      "execution_count": 31,
      "outputs": [
        {
          "output_type": "stream",
          "name": "stdout",
          "text": [
            "\n",
            "\n",
            "Building a new DB, current time: 06/07/2023 20:56:58\n",
            "New DB name:   /content/human.proteins\n",
            "New DB title:  proteomes/human.faa\n",
            "Sequence type: Protein\n",
            "Deleted existing Protein BLAST database named /content/human.proteins\n",
            "Keep MBits: T\n",
            "Maximum file size: 1000000000B\n",
            "Adding sequences from FASTA; added 136193 sequences in 3.5618 seconds.\n",
            "\n",
            "\n",
            "Building a new DB, current time: 06/07/2023 20:57:02\n",
            "New DB name:   /content/zebrafish.proteins\n",
            "New DB title:  proteomes/zebrafish.faa\n",
            "Sequence type: Protein\n",
            "Deleted existing Protein BLAST database named /content/zebrafish.proteins\n",
            "Keep MBits: T\n",
            "Maximum file size: 1000000000B\n",
            "Adding sequences from FASTA; added 52829 sequences in 1.50648 seconds.\n",
            "\n",
            "\n",
            "Building a new DB, current time: 06/07/2023 20:57:04\n",
            "New DB name:   /content/mouse.proteins\n",
            "New DB title:  proteomes/mouse.faa\n",
            "Sequence type: Protein\n",
            "Deleted existing Protein BLAST database named /content/mouse.proteins\n",
            "Keep MBits: T\n",
            "Maximum file size: 1000000000B\n",
            "Adding sequences from FASTA; added 96192 sequences in 3.47781 seconds.\n",
            "\n",
            "\n",
            "Building a new DB, current time: 06/07/2023 20:57:07\n",
            "New DB name:   /content/drosophila.proteins\n",
            "New DB title:  proteomes/drosophila.faa\n",
            "Sequence type: Protein\n",
            "Deleted existing Protein BLAST database named /content/drosophila.proteins\n",
            "Keep MBits: T\n",
            "Maximum file size: 1000000000B\n",
            "Adding sequences from FASTA; added 30799 sequences in 0.806491 seconds.\n",
            "\n",
            "\n",
            "Building a new DB, current time: 06/07/2023 20:57:08\n",
            "New DB name:   /content/c.elegans.proteins\n",
            "New DB title:  proteomes/c.elegans.faa\n",
            "Sequence type: Protein\n",
            "Deleted existing Protein BLAST database named /content/c.elegans.proteins\n",
            "Keep MBits: T\n",
            "Maximum file size: 1000000000B\n",
            "Adding sequences from FASTA; added 28546 sequences in 0.70803 seconds.\n",
            "\n",
            "\n",
            "Building a new DB, current time: 06/07/2023 20:57:09\n",
            "New DB name:   /content/ciliate.proteins\n",
            "New DB title:  proteomes/ciliate.faa\n",
            "Sequence type: Protein\n",
            "Deleted existing Protein BLAST database named /content/ciliate.proteins\n",
            "Keep MBits: T\n",
            "Maximum file size: 1000000000B\n",
            "Adding sequences from FASTA; added 26996 sequences in 0.710107 seconds.\n",
            "\n",
            "\n",
            "Building a new DB, current time: 06/07/2023 20:57:10\n",
            "New DB name:   /content/yeast.proteins\n",
            "New DB title:  proteomes/yeast.faa\n",
            "Sequence type: Protein\n",
            "Deleted existing Protein BLAST database named /content/yeast.proteins\n",
            "Keep MBits: T\n",
            "Maximum file size: 1000000000B\n",
            "Adding sequences from FASTA; added 6017 sequences in 0.157599 seconds.\n",
            "\n",
            "\n",
            "Building a new DB, current time: 06/07/2023 20:57:10\n",
            "New DB name:   /content/methanocaldococcus.proteins\n",
            "New DB title:  proteomes/methanocaldococcus.faa\n",
            "Sequence type: Protein\n",
            "Deleted existing Protein BLAST database named /content/methanocaldococcus.proteins\n",
            "Keep MBits: T\n",
            "Maximum file size: 1000000000B\n",
            "Adding sequences from FASTA; added 1595 sequences in 0.0355821 seconds.\n",
            "\n",
            "\n",
            "Building a new DB, current time: 06/07/2023 20:57:10\n",
            "New DB name:   /content/thermococcus.proteins\n",
            "New DB title:  proteomes/thermococcus.faa\n",
            "Sequence type: Protein\n",
            "Deleted existing Protein BLAST database named /content/thermococcus.proteins\n",
            "Keep MBits: T\n",
            "Maximum file size: 1000000000B\n",
            "Adding sequences from FASTA; added 2284 sequences in 0.0488279 seconds.\n",
            "\n",
            "\n",
            "Building a new DB, current time: 06/07/2023 20:57:10\n",
            "New DB name:   /content/e.coli.proteins\n",
            "New DB title:  proteomes/e.coli.faa\n",
            "Sequence type: Protein\n",
            "Deleted existing Protein BLAST database named /content/e.coli.proteins\n",
            "Keep MBits: T\n",
            "Maximum file size: 1000000000B\n",
            "Adding sequences from FASTA; added 4298 sequences in 0.090934 seconds.\n",
            "\n",
            "\n",
            "Building a new DB, current time: 06/07/2023 20:57:10\n",
            "New DB name:   /content/tuberculosis.proteins\n",
            "New DB title:  proteomes/tuberculosis.faa\n",
            "Sequence type: Protein\n",
            "Deleted existing Protein BLAST database named /content/tuberculosis.proteins\n",
            "Keep MBits: T\n",
            "Maximum file size: 1000000000B\n",
            "Adding sequences from FASTA; added 3906 sequences in 0.0851371 seconds.\n"
          ]
        }
      ]
    },
    {
      "cell_type": "code",
      "source": [
        "!blastp -help"
      ],
      "metadata": {
        "colab": {
          "base_uri": "https://localhost:8080/"
        },
        "id": "HT-7TGN5MVIQ",
        "outputId": "f63381f7-a9c0-4c54-992f-90bd05c06296"
      },
      "execution_count": 32,
      "outputs": [
        {
          "output_type": "stream",
          "name": "stdout",
          "text": [
            "USAGE\n",
            "  blastp [-h] [-help] [-import_search_strategy filename]\n",
            "    [-export_search_strategy filename] [-task task_name] [-db database_name]\n",
            "    [-dbsize num_letters] [-gilist filename] [-seqidlist filename]\n",
            "    [-negative_gilist filename] [-negative_seqidlist filename]\n",
            "    [-taxids taxids] [-negative_taxids taxids] [-taxidlist filename]\n",
            "    [-negative_taxidlist filename] [-ipglist filename]\n",
            "    [-negative_ipglist filename] [-entrez_query entrez_query]\n",
            "    [-db_soft_mask filtering_algorithm] [-db_hard_mask filtering_algorithm]\n",
            "    [-subject subject_input_file] [-subject_loc range] [-query input_file]\n",
            "    [-out output_file] [-evalue evalue] [-word_size int_value]\n",
            "    [-gapopen open_penalty] [-gapextend extend_penalty]\n",
            "    [-qcov_hsp_perc float_value] [-max_hsps int_value]\n",
            "    [-xdrop_ungap float_value] [-xdrop_gap float_value]\n",
            "    [-xdrop_gap_final float_value] [-searchsp int_value] [-seg SEG_options]\n",
            "    [-soft_masking soft_masking] [-matrix matrix_name]\n",
            "    [-threshold float_value] [-culling_limit int_value]\n",
            "    [-best_hit_overhang float_value] [-best_hit_score_edge float_value]\n",
            "    [-subject_besthit] [-window_size int_value] [-lcase_masking]\n",
            "    [-query_loc range] [-parse_deflines] [-outfmt format] [-show_gis]\n",
            "    [-num_descriptions int_value] [-num_alignments int_value]\n",
            "    [-line_length line_length] [-html] [-sorthits sort_hits]\n",
            "    [-sorthsps sort_hsps] [-max_target_seqs num_sequences]\n",
            "    [-num_threads int_value] [-ungapped] [-remote] [-comp_based_stats compo]\n",
            "    [-use_sw_tback] [-version]\n",
            "\n",
            "DESCRIPTION\n",
            "   Protein-Protein BLAST 2.9.0+\n",
            "\n",
            "OPTIONAL ARGUMENTS\n",
            " -h\n",
            "   Print USAGE and DESCRIPTION;  ignore all other parameters\n",
            " -help\n",
            "   Print USAGE, DESCRIPTION and ARGUMENTS; ignore all other parameters\n",
            " -version\n",
            "   Print version number;  ignore other arguments\n",
            "\n",
            " *** Input query options\n",
            " -query <File_In>\n",
            "   Input file name\n",
            "   Default = `-'\n",
            " -query_loc <String>\n",
            "   Location on the query sequence in 1-based offsets (Format: start-stop)\n",
            "\n",
            " *** General search options\n",
            " -task <String, Permissible values: 'blastp' 'blastp-fast' 'blastp-short' >\n",
            "   Task to execute\n",
            "   Default = `blastp'\n",
            " -db <String>\n",
            "   BLAST database name\n",
            "    * Incompatible with:  subject, subject_loc\n",
            " -out <File_Out>\n",
            "   Output file name\n",
            "   Default = `-'\n",
            " -evalue <Real>\n",
            "   Expectation value (E) threshold for saving hits \n",
            "   Default = `10'\n",
            " -word_size <Integer, >=2>\n",
            "   Word size for wordfinder algorithm\n",
            " -gapopen <Integer>\n",
            "   Cost to open a gap\n",
            " -gapextend <Integer>\n",
            "   Cost to extend a gap\n",
            " -matrix <String>\n",
            "   Scoring matrix name (normally BLOSUM62)\n",
            " -threshold <Real, >=0>\n",
            "   Minimum word score such that the word is added to the BLAST lookup table\n",
            " -comp_based_stats <String>\n",
            "   Use composition-based statistics:\n",
            "       D or d: default (equivalent to 2 )\n",
            "       0 or F or f: No composition-based statistics\n",
            "       1: Composition-based statistics as in NAR 29:2994-3005, 2001\n",
            "       2 or T or t : Composition-based score adjustment as in Bioinformatics\n",
            "   21:902-911,\n",
            "       2005, conditioned on sequence properties\n",
            "       3: Composition-based score adjustment as in Bioinformatics 21:902-911,\n",
            "       2005, unconditionally\n",
            "   Default = `2'\n",
            "\n",
            " *** BLAST-2-Sequences options\n",
            " -subject <File_In>\n",
            "   Subject sequence(s) to search\n",
            "    * Incompatible with:  db, gilist, seqidlist, negative_gilist,\n",
            "   negative_seqidlist, taxids, taxidlist, negative_taxids, negative_taxidlist,\n",
            "   ipglist, negative_ipglist, db_soft_mask, db_hard_mask\n",
            " -subject_loc <String>\n",
            "   Location on the subject sequence in 1-based offsets (Format: start-stop)\n",
            "    * Incompatible with:  db, gilist, seqidlist, negative_gilist,\n",
            "   negative_seqidlist, taxids, taxidlist, negative_taxids, negative_taxidlist,\n",
            "   ipglist, negative_ipglist, db_soft_mask, db_hard_mask, remote\n",
            "\n",
            " *** Formatting options\n",
            " -outfmt <String>\n",
            "   alignment view options:\n",
            "     0 = Pairwise,\n",
            "     1 = Query-anchored showing identities,\n",
            "     2 = Query-anchored no identities,\n",
            "     3 = Flat query-anchored showing identities,\n",
            "     4 = Flat query-anchored no identities,\n",
            "     5 = BLAST XML,\n",
            "     6 = Tabular,\n",
            "     7 = Tabular with comment lines,\n",
            "     8 = Seqalign (Text ASN.1),\n",
            "     9 = Seqalign (Binary ASN.1),\n",
            "    10 = Comma-separated values,\n",
            "    11 = BLAST archive (ASN.1),\n",
            "    12 = Seqalign (JSON),\n",
            "    13 = Multiple-file BLAST JSON,\n",
            "    14 = Multiple-file BLAST XML2,\n",
            "    15 = Single-file BLAST JSON,\n",
            "    16 = Single-file BLAST XML2,\n",
            "    18 = Organism Report\n",
            "   \n",
            "   Options 6, 7 and 10 can be additionally configured to produce\n",
            "   a custom format specified by space delimited format specifiers,\n",
            "   or by a token specified by the delim keyword.\n",
            "    E.g.: \"17 delim=@ qacc sacc score\".\n",
            "   The delim keyword must appear after the numeric output format\n",
            "   specification.\n",
            "   The supported format specifiers are:\n",
            "   \t    qseqid means Query Seq-id\n",
            "   \t       qgi means Query GI\n",
            "   \t      qacc means Query accesion\n",
            "   \t   qaccver means Query accesion.version\n",
            "   \t      qlen means Query sequence length\n",
            "   \t    sseqid means Subject Seq-id\n",
            "   \t sallseqid means All subject Seq-id(s), separated by a ';'\n",
            "   \t       sgi means Subject GI\n",
            "   \t    sallgi means All subject GIs\n",
            "   \t      sacc means Subject accession\n",
            "   \t   saccver means Subject accession.version\n",
            "   \t   sallacc means All subject accessions\n",
            "   \t      slen means Subject sequence length\n",
            "   \t    qstart means Start of alignment in query\n",
            "   \t      qend means End of alignment in query\n",
            "   \t    sstart means Start of alignment in subject\n",
            "   \t      send means End of alignment in subject\n",
            "   \t      qseq means Aligned part of query sequence\n",
            "   \t      sseq means Aligned part of subject sequence\n",
            "   \t    evalue means Expect value\n",
            "   \t  bitscore means Bit score\n",
            "   \t     score means Raw score\n",
            "   \t    length means Alignment length\n",
            "   \t    pident means Percentage of identical matches\n",
            "   \t    nident means Number of identical matches\n",
            "   \t  mismatch means Number of mismatches\n",
            "   \t  positive means Number of positive-scoring matches\n",
            "   \t   gapopen means Number of gap openings\n",
            "   \t      gaps means Total number of gaps\n",
            "   \t      ppos means Percentage of positive-scoring matches\n",
            "   \t    frames means Query and subject frames separated by a '/'\n",
            "   \t    qframe means Query frame\n",
            "   \t    sframe means Subject frame\n",
            "   \t      btop means Blast traceback operations (BTOP)\n",
            "   \t    staxid means Subject Taxonomy ID\n",
            "   \t  ssciname means Subject Scientific Name\n",
            "   \t  scomname means Subject Common Name\n",
            "   \tsblastname means Subject Blast Name\n",
            "   \t sskingdom means Subject Super Kingdom\n",
            "   \t   staxids means unique Subject Taxonomy ID(s), separated by a ';'\n",
            "   \t\t\t (in numerical order)\n",
            "   \t sscinames means unique Subject Scientific Name(s), separated by a ';'\n",
            "   \t scomnames means unique Subject Common Name(s), separated by a ';'\n",
            "   \tsblastnames means unique Subject Blast Name(s), separated by a ';'\n",
            "   \t\t\t (in alphabetical order)\n",
            "   \tsskingdoms means unique Subject Super Kingdom(s), separated by a ';'\n",
            "   \t\t\t (in alphabetical order) \n",
            "   \t    stitle means Subject Title\n",
            "   \tsalltitles means All Subject Title(s), separated by a '<>'\n",
            "   \t   sstrand means Subject Strand\n",
            "   \t     qcovs means Query Coverage Per Subject\n",
            "   \t   qcovhsp means Query Coverage Per HSP\n",
            "   \t    qcovus means Query Coverage Per Unique Subject (blastn only)\n",
            "   When not provided, the default value is:\n",
            "   'qaccver saccver pident length mismatch gapopen qstart qend sstart send\n",
            "   evalue bitscore', which is equivalent to the keyword 'std'\n",
            "   Default = `0'\n",
            " -show_gis\n",
            "   Show NCBI GIs in deflines?\n",
            " -num_descriptions <Integer, >=0>\n",
            "   Number of database sequences to show one-line descriptions for\n",
            "   Not applicable for outfmt > 4\n",
            "   Default = `500'\n",
            "    * Incompatible with:  max_target_seqs\n",
            " -num_alignments <Integer, >=0>\n",
            "   Number of database sequences to show alignments for\n",
            "   Default = `250'\n",
            "    * Incompatible with:  max_target_seqs\n",
            " -line_length <Integer, >=1>\n",
            "   Line length for formatting alignments\n",
            "   Not applicable for outfmt > 4\n",
            "   Default = `60'\n",
            " -html\n",
            "   Produce HTML output?\n",
            " -sorthits <Integer, (>=0 and =<4)>\n",
            "   Sorting option for hits:\n",
            "   alignment view options:\n",
            "     0 = Sort by evalue,\n",
            "     1 = Sort by bit score,\n",
            "     2 = Sort by total score,\n",
            "     3 = Sort by percent identity,\n",
            "     4 = Sort by query coverage\n",
            "   Not applicable for outfmt > 4\n",
            " -sorthsps <Integer, (>=0 and =<4)>\n",
            "   Sorting option for hps:\n",
            "     0 = Sort by hsp evalue,\n",
            "     1 = Sort by hsp score,\n",
            "     2 = Sort by hsp query start,\n",
            "     3 = Sort by hsp percent identity,\n",
            "     4 = Sort by hsp subject start\n",
            "   Not applicable for outfmt != 0\n",
            "\n",
            " *** Query filtering options\n",
            " -seg <String>\n",
            "   Filter query sequence with SEG (Format: 'yes', 'window locut hicut', or\n",
            "   'no' to disable)\n",
            "   Default = `no'\n",
            " -soft_masking <Boolean>\n",
            "   Apply filtering locations as soft masks\n",
            "   Default = `false'\n",
            " -lcase_masking\n",
            "   Use lower case filtering in query and subject sequence(s)?\n",
            "\n",
            " *** Restrict search or results\n",
            " -gilist <String>\n",
            "   Restrict search of database to list of GIs\n",
            "    * Incompatible with:  seqidlist, taxids, taxidlist, negative_gilist,\n",
            "   negative_seqidlist, negative_taxids, negative_taxidlist, remote, subject,\n",
            "   subject_loc\n",
            " -seqidlist <String>\n",
            "   Restrict search of database to list of SeqIDs\n",
            "    * Incompatible with:  gilist, taxids, taxidlist, negative_gilist,\n",
            "   negative_seqidlist, negative_taxids, negative_taxidlist, remote, subject,\n",
            "   subject_loc\n",
            " -negative_gilist <String>\n",
            "   Restrict search of database to everything except the specified GIs\n",
            "    * Incompatible with:  gilist, seqidlist, taxids, taxidlist,\n",
            "   negative_seqidlist, negative_taxids, negative_taxidlist, remote, subject,\n",
            "   subject_loc\n",
            " -negative_seqidlist <String>\n",
            "   Restrict search of database to everything except the specified SeqIDs\n",
            "    * Incompatible with:  gilist, seqidlist, taxids, taxidlist,\n",
            "   negative_gilist, negative_taxids, negative_taxidlist, remote, subject,\n",
            "   subject_loc\n",
            " -taxids <String>\n",
            "   Restrict search of database to include only the specified taxonomy IDs\n",
            "   (multiple IDs delimited by ',')\n",
            "    * Incompatible with:  gilist, seqidlist, taxidlist, negative_gilist,\n",
            "   negative_seqidlist, negative_taxids, negative_taxidlist, remote, subject,\n",
            "   subject_loc\n",
            " -negative_taxids <String>\n",
            "   Restrict search of database to everything except the specified taxonomy IDs\n",
            "   (multiple IDs delimited by ',')\n",
            "    * Incompatible with:  gilist, seqidlist, taxids, taxidlist,\n",
            "   negative_gilist, negative_seqidlist, negative_taxidlist, remote, subject,\n",
            "   subject_loc\n",
            " -taxidlist <String>\n",
            "   Restrict search of database to include only the specified taxonomy IDs\n",
            "    * Incompatible with:  gilist, seqidlist, taxids, negative_gilist,\n",
            "   negative_seqidlist, negative_taxids, negative_taxidlist, remote, subject,\n",
            "   subject_loc\n",
            " -negative_taxidlist <String>\n",
            "   Restrict search of database to everything except the specified taxonomy IDs\n",
            "    * Incompatible with:  gilist, seqidlist, taxids, taxidlist,\n",
            "   negative_gilist, negative_seqidlist, negative_taxids, remote, subject,\n",
            "   subject_loc\n",
            " -ipglist <String>\n",
            "   Restrict search of database to list of IPGs\n",
            "    * Incompatible with:  subject, subject_loc\n",
            " -negative_ipglist <String>\n",
            "   Restrict search of database to everything except the specified IPGs\n",
            "    * Incompatible with:  subject, subject_loc\n",
            " -entrez_query <String>\n",
            "   Restrict search with the given Entrez query\n",
            "    * Requires:  remote\n",
            " -db_soft_mask <String>\n",
            "   Filtering algorithm ID to apply to the BLAST database as soft masking\n",
            "    * Incompatible with:  db_hard_mask, subject, subject_loc\n",
            " -db_hard_mask <String>\n",
            "   Filtering algorithm ID to apply to the BLAST database as hard masking\n",
            "    * Incompatible with:  db_soft_mask, subject, subject_loc\n",
            " -qcov_hsp_perc <Real, 0..100>\n",
            "   Percent query coverage per hsp\n",
            " -max_hsps <Integer, >=1>\n",
            "   Set maximum number of HSPs per subject sequence to save for each query\n",
            " -culling_limit <Integer, >=0>\n",
            "   If the query range of a hit is enveloped by that of at least this many\n",
            "   higher-scoring hits, delete the hit\n",
            "    * Incompatible with:  best_hit_overhang, best_hit_score_edge\n",
            " -best_hit_overhang <Real, (>0 and <0.5)>\n",
            "   Best Hit algorithm overhang value (recommended value: 0.1)\n",
            "    * Incompatible with:  culling_limit\n",
            " -best_hit_score_edge <Real, (>0 and <0.5)>\n",
            "   Best Hit algorithm score edge value (recommended value: 0.1)\n",
            "    * Incompatible with:  culling_limit\n",
            " -subject_besthit\n",
            "   Turn on best hit per subject sequence\n",
            " -max_target_seqs <Integer, >=1>\n",
            "   Maximum number of aligned sequences to keep \n",
            "   (value of 5 or more is recommended)\n",
            "   Default = `500'\n",
            "    * Incompatible with:  num_descriptions, num_alignments\n",
            "\n",
            " *** Statistical options\n",
            " -dbsize <Int8>\n",
            "   Effective length of the database \n",
            " -searchsp <Int8, >=0>\n",
            "   Effective length of the search space\n",
            "\n",
            " *** Search strategy options\n",
            " -import_search_strategy <File_In>\n",
            "   Search strategy to use\n",
            "    * Incompatible with:  export_search_strategy\n",
            " -export_search_strategy <File_Out>\n",
            "   File name to record the search strategy used\n",
            "    * Incompatible with:  import_search_strategy\n",
            "\n",
            " *** Extension options\n",
            " -xdrop_ungap <Real>\n",
            "   X-dropoff value (in bits) for ungapped extensions\n",
            " -xdrop_gap <Real>\n",
            "   X-dropoff value (in bits) for preliminary gapped extensions\n",
            " -xdrop_gap_final <Real>\n",
            "   X-dropoff value (in bits) for final gapped alignment\n",
            " -window_size <Integer, >=0>\n",
            "   Multiple hits window size, use 0 to specify 1-hit algorithm\n",
            " -ungapped\n",
            "   Perform ungapped alignment only?\n",
            "\n",
            " *** Miscellaneous options\n",
            " -parse_deflines\n",
            "   Should the query and subject defline(s) be parsed?\n",
            " -num_threads <Integer, >=1>\n",
            "   Number of threads (CPUs) to use in the BLAST search\n",
            "   Default = `1'\n",
            "    * Incompatible with:  remote\n",
            " -remote\n",
            "   Execute search remotely?\n",
            "    * Incompatible with:  gilist, seqidlist, taxids, taxidlist,\n",
            "   negative_gilist, negative_seqidlist, negative_taxids, negative_taxidlist,\n",
            "   subject_loc, num_threads\n",
            " -use_sw_tback\n",
            "   Compute locally optimal Smith-Waterman alignments?\n",
            "\n"
          ]
        }
      ]
    },
    {
      "cell_type": "code",
      "source": [
        "!mkdir blasts\n",
        "!blastp  -query brcc3.fasta  -db human.proteins  -evalue 1e-10  -outfmt 6  >  blasts/brcc3_human.txt\n",
        "!blastp  -query brcc3.fasta  -db mouse.proteins  -evalue 1e-10  -outfmt 6  >  blasts/brcc3_mouse.txt\n",
        "!blastp  -query brcc3.fasta  -db zebrafish.proteins  -evalue 1e-10  -outfmt 6  >  blasts/brcc3_zebrafish.txt\n",
        "!blastp  -query brcc3.fasta  -db drosophila.proteins  -evalue 1e-10  -outfmt 6  >  blasts/brcc3_drosophila.txt\n",
        "!blastp  -query brcc3.fasta  -db c.elegans.proteins  -evalue 1e-10  -outfmt 6  >  blasts/brcc3_c.elegans.txt\n",
        "!blastp  -query brcc3.fasta  -db ciliate.proteins  -evalue 1e-10  -outfmt 6  >  blasts/brcc3_ciliate.txt\n",
        "!blastp  -query brcc3.fasta  -db yeast.proteins  -evalue 1e-10  -outfmt 6  >  blasts/brcc3_yeast.txt\n",
        "!blastp  -query brcc3.fasta  -db methanocaldococcus.proteins  -evalue 1e-10  -outfmt 6  >  blasts/brcc3_methanocaldococcus.txt\n",
        "!blastp  -query brcc3.fasta  -db thermococcus.proteins  -evalue 1e-10  -outfmt 6  >  blasts/brcc3_thermococcus.txt\n",
        "!blastp  -query brcc3.fasta  -db e.coli.proteins  -evalue 1e-10  -outfmt 6  >  blasts/brcc3_e.coli.txt\n",
        "!blastp  -query brcc3.fasta  -db tuberculosis.proteins  -evalue 1e-10  -outfmt 6  >  blasts/brcc3_tuberculosis.txt"
      ],
      "metadata": {
        "colab": {
          "base_uri": "https://localhost:8080/"
        },
        "id": "X3RU4rlqH_A8",
        "outputId": "5de2a017-78bf-40b9-a81a-025cb39bf552"
      },
      "execution_count": 33,
      "outputs": [
        {
          "output_type": "stream",
          "name": "stdout",
          "text": [
            "mkdir: cannot create directory ‘blasts’: File exists\n"
          ]
        }
      ]
    },
    {
      "cell_type": "code",
      "source": [
        "!blastp  -query h2a_og.fasta  -db human.proteins  -evalue 1e-10  -outfmt 6  >  blasts/h2a_human.txt\n",
        "!blastp  -query h2a_og.fasta  -db mouse.proteins  -evalue 1e-10  -outfmt 6  >  blasts/h2a_mouse.txt\n",
        "!blastp  -query h2a_og.fasta  -db zebrafish.proteins  -evalue 1e-10  -outfmt 6  >  blasts/h2a_zebrafish.txt\n",
        "!blastp  -query h2a_og.fasta  -db drosophila.proteins  -evalue 1e-10  -outfmt 6  >  blasts/h2a_drosophila.txt\n",
        "!blastp  -query h2a_og.fasta  -db c.elegans.proteins  -evalue 1e-10  -outfmt 6  >  blasts/h2a_c.elegans.txt\n",
        "!blastp  -query h2a_og.fasta  -db ciliate.proteins  -evalue 1e-10  -outfmt 6  >  blasts/h2a_ciliate.txt\n",
        "!blastp  -query h2a_og.fasta  -db yeast.proteins  -evalue 1e-10  -outfmt 6  >  blasts/h2a_yeast.txt\n",
        "!blastp  -query h2a_og.fasta  -db methanocaldococcus.proteins  -evalue 1e-10  -outfmt 6  >  blasts/h2a_methanocaldococcus.txt\n",
        "!blastp  -query h2a_og.fasta  -db thermococcus.proteins  -evalue 1e-10  -outfmt 6  >  blasts/h2a_thermococcus.txt\n",
        "!blastp  -query h2a_og.fasta  -db e.coli.proteins  -evalue 1e-10  -outfmt 6  >  blasts/h2a_e.coli.txt\n",
        "!blastp  -query h2a_og.fasta  -db tuberculosis.proteins  -evalue 1e-10  -outfmt 6  >  blasts/h2a_tuberculosis.txt"
      ],
      "metadata": {
        "id": "w4VIRKK_JEec"
      },
      "execution_count": 34,
      "outputs": []
    },
    {
      "cell_type": "code",
      "source": [
        "!blastp  -query h2b_og.fasta  -db human.proteins  -evalue 1e-10  -outfmt 6  >  blasts/h2b_human.txt\n",
        "!blastp  -query h2b_og.fasta  -db mouse.proteins  -evalue 1e-10  -outfmt 6  >  blasts/h2b_mouse.txt\n",
        "!blastp  -query h2b_og.fasta  -db zebrafish.proteins  -evalue 1e-10  -outfmt 6  >  blasts/h2b_zebrafish.txt\n",
        "!blastp  -query h2b_og.fasta  -db drosophila.proteins  -evalue 1e-10  -outfmt 6  >  blasts/h2b_drosophila.txt\n",
        "!blastp  -query h2b_og.fasta  -db c.elegans.proteins  -evalue 1e-10  -outfmt 6  >  blasts/h2b_c.elegans.txt\n",
        "!blastp  -query h2b_og.fasta  -db ciliate.proteins  -evalue 1e-10  -outfmt 6  >  blasts/h2b_ciliate.txt\n",
        "!blastp  -query h2b_og.fasta  -db yeast.proteins  -evalue 1e-10  -outfmt 6  >  blasts/h2b_yeast.txt\n",
        "!blastp  -query h2b_og.fasta  -db methanocaldococcus.proteins  -evalue 1e-10  -outfmt 6  >  blasts/h2b_methanocaldococcus.txt\n",
        "!blastp  -query h2b_og.fasta  -db thermococcus.proteins  -evalue 1e-10  -outfmt 6  >  blasts/h2b_thermococcus.txt\n",
        "!blastp  -query h2b_og.fasta  -db e.coli.proteins  -evalue 1e-10  -outfmt 6  >  blasts/h2b_e.coli.txt\n",
        "!blastp  -query h2b_og.fasta  -db tuberculosis.proteins  -evalue 1e-10  -outfmt 6  >  blasts/h2b_tuberculosis.txt"
      ],
      "metadata": {
        "id": "cGrbSvf-KWnx"
      },
      "execution_count": 35,
      "outputs": []
    },
    {
      "cell_type": "code",
      "source": [
        "!blastp  -query h3_og.fasta  -db human.proteins  -evalue 1e-10  -outfmt 6  >  blasts/h3_human.txt\n",
        "!blastp  -query h3_og.fasta  -db mouse.proteins  -evalue 1e-10  -outfmt 6  >  blasts/h3_mouse.txt\n",
        "!blastp  -query h3_og.fasta  -db zebrafish.proteins  -evalue 1e-10  -outfmt 6  >  blasts/h3_zebrafish.txt\n",
        "!blastp  -query h3_og.fasta  -db drosophila.proteins  -evalue 1e-10  -outfmt 6  >  blasts/h3_drosophila.txt\n",
        "!blastp  -query h3_og.fasta  -db c.elegans.proteins  -evalue 1e-10  -outfmt 6  >  blasts/h3_c.elegans.txt\n",
        "!blastp  -query h3_og.fasta  -db ciliate.proteins  -evalue 1e-10  -outfmt 6  >  blasts/h3_ciliate.txt\n",
        "!blastp  -query h3_og.fasta  -db yeast.proteins  -evalue 1e-10  -outfmt 6  >  blasts/h3_yeast.txt\n",
        "!blastp  -query h3_og.fasta  -db methanocaldococcus.proteins  -evalue 1e-10  -outfmt 6  >  blasts/h3_methanocaldococcus.txt\n",
        "!blastp  -query h3_og.fasta  -db thermococcus.proteins  -evalue 1e-10  -outfmt 6  >  blasts/h3_thermococcus.txt\n",
        "!blastp  -query h3_og.fasta  -db e.coli.proteins  -evalue 1e-10  -outfmt 6  >  blasts/h3_e.coli.txt\n",
        "!blastp  -query h3_og.fasta  -db tuberculosis.proteins  -evalue 1e-10  -outfmt 6  >  blasts/h3_tuberculosis.txt"
      ],
      "metadata": {
        "id": "fI-JKKWPKpsn"
      },
      "execution_count": 36,
      "outputs": []
    },
    {
      "cell_type": "code",
      "source": [
        "!blastp  -query h4_og.fasta  -db human.proteins  -evalue 1e-10  -outfmt 6  >  blasts/h4_human.txt\n",
        "!blastp  -query h4_og.fasta  -db mouse.proteins  -evalue 1e-10  -outfmt 6  >  blasts/h4_mouse.txt\n",
        "!blastp  -query h4_og.fasta  -db zebrafish.proteins  -evalue 1e-10  -outfmt 6  >  blasts/h4_zebrafish.txt\n",
        "!blastp  -query h4_og.fasta  -db drosophila.proteins  -evalue 1e-10  -outfmt 6  >  blasts/h4_drosophila.txt\n",
        "!blastp  -query h4_og.fasta  -db c.elegans.proteins  -evalue 1e-10  -outfmt 6  >  blasts/h4_c.elegans.txt\n",
        "!blastp  -query h4_og.fasta  -db ciliate.proteins  -evalue 1e-10  -outfmt 6  >  blasts/h4_ciliate.txt\n",
        "!blastp  -query h4_og.fasta  -db yeast.proteins  -evalue 1e-10  -outfmt 6  >  blasts/h4_yeast.txt\n",
        "!blastp  -query h4_og.fasta  -db methanocaldococcus.proteins  -evalue 1e-10  -outfmt 6  >  blasts/h4_methanocaldococcus.txt\n",
        "!blastp  -query h4_og.fasta  -db thermococcus.proteins  -evalue 1e-10  -outfmt 6  >  blasts/h4_thermococcus.txt\n",
        "!blastp  -query h4_og.fasta  -db e.coli.proteins  -evalue 1e-10  -outfmt 6  >  blasts/h4_e.coli.txt\n",
        "!blastp  -query h4_og.fasta  -db tuberculosis.proteins  -evalue 1e-10  -outfmt 6  >  blasts/h4_tuberculosis.txt"
      ],
      "metadata": {
        "id": "M9_QWKYLLOFE"
      },
      "execution_count": 37,
      "outputs": []
    },
    {
      "cell_type": "code",
      "source": [
        "import os\n",
        "e_values = {}\n",
        "for i in os.listdir('./blasts'):\n",
        "    path = './blasts/' + i\n",
        "    if os.path.isdir(path):\n",
        "      continue\n",
        "    with open(path, encoding  = 'utf-8') as f:\n",
        "        text = f.readlines()\n",
        "    for j in text:\n",
        "        if j.startswith('NP'):\n",
        "            value = float(j.split('\\t')[-2])\n",
        "            if value < 1.0e-300:\n",
        "                value = 1.0e-300\n",
        "            e_values[i.strip('.txt')] = value\n",
        "            break\n",
        "print(e_values)"
      ],
      "metadata": {
        "colab": {
          "base_uri": "https://localhost:8080/"
        },
        "id": "PSePWM6nLf_p",
        "outputId": "d4211c72-2c19-4eb5-f049-fab6be619188"
      },
      "execution_count": 38,
      "outputs": [
        {
          "output_type": "stream",
          "name": "stdout",
          "text": [
            "{'brcc3_human': 1e-300, 'h4_mouse': 1.42e-37, 'h4_human': 3.8e-66, 'h4_drosophila': 6.02e-38, 'h3_c.elegans': 4.46e-94, 'brcc3_c.elegans': 5.54e-11, 'h2a_human': 9.28e-90, 'h2b_c.elegans': 5.98e-66, 'h4_ciliate': 7.03e-31, 'h4_c.elegans': 4.97e-37, 'h3_mouse': 1.54e-96, 'h2a_c.elegans': 5.21e-65, 'h2b_drosophila': 2.75e-60, 'h2a_ciliate': 2.49e-57, 'h3_yeas': 3.31e-87, 'brcc3_mouse': 1e-300, 'h3_human': 2.19e-96, 'h3_ciliate': 8.41e-86, 'h4_zebrafish': 3.76e-38, 'h2a_yeas': 1.19e-62, 'h3_drosophila': 9.39e-96, 'h2b_zebrafish': 1.86e-83, 'h3_zebrafish': 1.77e-95, 'h2a_zebrafish': 9.78e-82, 'h2b_human': 2.78e-88, 'h2a_drosophila': 1.99e-67, 'h2a_mouse': 6.5e-90, 'brcc3_zebrafish': 4.14e-174, 'h2b_ciliate': 4.62e-51, 'h4_yeas': 2.11e-35, 'h2b_yeas': 1.01e-60, 'h2b_mouse': 1.95e-88}\n"
          ]
        }
      ]
    },
    {
      "cell_type": "code",
      "source": [
        "!pip3 install seaborn"
      ],
      "metadata": {
        "colab": {
          "base_uri": "https://localhost:8080/"
        },
        "id": "xeEt00ucL5Ew",
        "outputId": "8d27d3c4-9dd8-4a71-89bb-1c1f85b82c80"
      },
      "execution_count": 39,
      "outputs": [
        {
          "output_type": "stream",
          "name": "stdout",
          "text": [
            "Looking in indexes: https://pypi.org/simple, https://us-python.pkg.dev/colab-wheels/public/simple/\n",
            "Requirement already satisfied: seaborn in /usr/local/lib/python3.10/dist-packages (0.12.2)\n",
            "Requirement already satisfied: numpy!=1.24.0,>=1.17 in /usr/local/lib/python3.10/dist-packages (from seaborn) (1.22.4)\n",
            "Requirement already satisfied: pandas>=0.25 in /usr/local/lib/python3.10/dist-packages (from seaborn) (1.5.3)\n",
            "Requirement already satisfied: matplotlib!=3.6.1,>=3.1 in /usr/local/lib/python3.10/dist-packages (from seaborn) (3.7.1)\n",
            "Requirement already satisfied: contourpy>=1.0.1 in /usr/local/lib/python3.10/dist-packages (from matplotlib!=3.6.1,>=3.1->seaborn) (1.0.7)\n",
            "Requirement already satisfied: cycler>=0.10 in /usr/local/lib/python3.10/dist-packages (from matplotlib!=3.6.1,>=3.1->seaborn) (0.11.0)\n",
            "Requirement already satisfied: fonttools>=4.22.0 in /usr/local/lib/python3.10/dist-packages (from matplotlib!=3.6.1,>=3.1->seaborn) (4.39.3)\n",
            "Requirement already satisfied: kiwisolver>=1.0.1 in /usr/local/lib/python3.10/dist-packages (from matplotlib!=3.6.1,>=3.1->seaborn) (1.4.4)\n",
            "Requirement already satisfied: packaging>=20.0 in /usr/local/lib/python3.10/dist-packages (from matplotlib!=3.6.1,>=3.1->seaborn) (23.1)\n",
            "Requirement already satisfied: pillow>=6.2.0 in /usr/local/lib/python3.10/dist-packages (from matplotlib!=3.6.1,>=3.1->seaborn) (8.4.0)\n",
            "Requirement already satisfied: pyparsing>=2.3.1 in /usr/local/lib/python3.10/dist-packages (from matplotlib!=3.6.1,>=3.1->seaborn) (3.0.9)\n",
            "Requirement already satisfied: python-dateutil>=2.7 in /usr/local/lib/python3.10/dist-packages (from matplotlib!=3.6.1,>=3.1->seaborn) (2.8.2)\n",
            "Requirement already satisfied: pytz>=2020.1 in /usr/local/lib/python3.10/dist-packages (from pandas>=0.25->seaborn) (2022.7.1)\n",
            "Requirement already satisfied: six>=1.5 in /usr/local/lib/python3.10/dist-packages (from python-dateutil>=2.7->matplotlib!=3.6.1,>=3.1->seaborn) (1.16.0)\n"
          ]
        }
      ]
    },
    {
      "cell_type": "code",
      "source": [
        "import pandas as pd\n",
        "import numpy as np\n",
        "\n",
        "proteomes = []\n",
        "organisms = []\n",
        "evalues = []\n",
        "\n",
        "for key, val in e_values.items():\n",
        "  gene, organism = key.split('_')\n",
        "  proteomes.append(gene)\n",
        "  organisms.append(organism)\n",
        "  evalues.append(val)\n",
        "\n",
        "eval_df = pd.pivot_table(pd.DataFrame({\n",
        "    'proteom': proteomes,\n",
        "    'organism': organisms,\n",
        "    'color': [-np.log10(evalue) if evalue > 0 else 300 for evalue in evalues],\n",
        "}), values='color', index='proteom', columns='organism')\n",
        "\n",
        "eval_df = eval_df[[\"human\", \"mouse\", \"zebrafish\", \"drosophila\", \"c.elegans\", \"ciliate\", \"yeas\" \n",
        "        ]]"
      ],
      "metadata": {
        "id": "pUiGZe4SQs9j"
      },
      "execution_count": 44,
      "outputs": []
    },
    {
      "cell_type": "code",
      "source": [
        "print(e_values)"
      ],
      "metadata": {
        "colab": {
          "base_uri": "https://localhost:8080/"
        },
        "id": "I3tR1bZSf-pH",
        "outputId": "bc8c3d23-25e7-47de-9ba9-30f59bdfe69d"
      },
      "execution_count": 45,
      "outputs": [
        {
          "output_type": "stream",
          "name": "stdout",
          "text": [
            "{'brcc3_human': 1e-300, 'h4_mouse': 1.42e-37, 'h4_human': 3.8e-66, 'h4_drosophila': 6.02e-38, 'h3_c.elegans': 4.46e-94, 'brcc3_c.elegans': 5.54e-11, 'h2a_human': 9.28e-90, 'h2b_c.elegans': 5.98e-66, 'h4_ciliate': 7.03e-31, 'h4_c.elegans': 4.97e-37, 'h3_mouse': 1.54e-96, 'h2a_c.elegans': 5.21e-65, 'h2b_drosophila': 2.75e-60, 'h2a_ciliate': 2.49e-57, 'h3_yeas': 3.31e-87, 'brcc3_mouse': 1e-300, 'h3_human': 2.19e-96, 'h3_ciliate': 8.41e-86, 'h4_zebrafish': 3.76e-38, 'h2a_yeas': 1.19e-62, 'h3_drosophila': 9.39e-96, 'h2b_zebrafish': 1.86e-83, 'h3_zebrafish': 1.77e-95, 'h2a_zebrafish': 9.78e-82, 'h2b_human': 2.78e-88, 'h2a_drosophila': 1.99e-67, 'h2a_mouse': 6.5e-90, 'brcc3_zebrafish': 4.14e-174, 'h2b_ciliate': 4.62e-51, 'h4_yeas': 2.11e-35, 'h2b_yeas': 1.01e-60, 'h2b_mouse': 1.95e-88}\n"
          ]
        }
      ]
    },
    {
      "cell_type": "code",
      "source": [
        "import seaborn as sns\n",
        "import matplotlib.pyplot as plt\n",
        "\n",
        "plt.figure(figsize=(15,8))\n",
        "sns.heatmap(eval_df, cmap='magma')\n",
        "plt.savefig('log_evalue_heatmap.png')\n",
        "plt.show"
      ],
      "metadata": {
        "colab": {
          "base_uri": "https://localhost:8080/",
          "height": 716
        },
        "id": "rLDAFMZFVAmu",
        "outputId": "0ff5b0fe-ecd1-44b4-f932-13fb9f78ba4b"
      },
      "execution_count": 46,
      "outputs": [
        {
          "output_type": "execute_result",
          "data": {
            "text/plain": [
              "<function matplotlib.pyplot.show(close=None, block=None)>"
            ]
          },
          "metadata": {},
          "execution_count": 46
        },
        {
          "output_type": "display_data",
          "data": {
            "text/plain": [
              "<Figure size 1500x800 with 2 Axes>"
            ],
            "image/png": "[encoded data removed]"
          },
          "metadata": {}
        }
      ]
    },
    {
      "cell_type": "code",
      "source": [],
      "metadata": {
        "id": "mGmzsr4UVgLB"
      },
      "execution_count": null,
      "outputs": []
    }
  ]
}